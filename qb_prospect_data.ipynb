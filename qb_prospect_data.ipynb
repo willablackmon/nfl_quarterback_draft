{
 "cells": [
  {
   "cell_type": "code",
   "execution_count": 1,
   "metadata": {},
   "outputs": [],
   "source": [
    "import pandas as pd"
   ]
  },
  {
   "cell_type": "code",
   "execution_count": null,
   "metadata": {},
   "outputs": [],
   "source": [
    "# Import CSV\n",
    "\n",
    "# NFL draft prospect data from ESPN dating back to 1967 (4000 profiles)\n",
    "csv_draft_profiles = \"Resources\\nfl_draft_profiles.csv\"\n",
    "draft_profiles_df = pd.read_csv(csv_draft_profiles) \n",
    "\n",
    "# data on when a prospect was drafted, which team drafted them.\n",
    "csv_prospects = \"Resources\\nfl_draft_prospects.csv\"\n",
    "prospects_df = pd.read_csv(csv_prospects)\n",
    "\n",
    "# used to correlate tables: \n",
    "csv_ids = 'Resources\\ids.csv'\n",
    "ids_df = pd.read_csv(csv_ids)\n",
    "\n",
    "# detailed quarterpback college performance statistics\n",
    "csv_qbr = 'Resources\\college_qbr.csv'\n",
    "qbr_df = pd.read_csv(csv_qbr) # remove index?  ISO\n",
    "\n",
    "# data on college statistics\n",
    "csv_stats = 'Resources\\college_statistics.csv'\n",
    "stats_df = pd.read_csv(csv_stats)\n",
    "\n",
    "# target, y: will be a binary 'successful player' designation, based on total career earnings"
   ]
  },
  {
   "cell_type": "code",
   "execution_count": 9,
   "metadata": {},
   "outputs": [],
   "source": [
    "#Export csv\n",
    "csv_path = \"Resources/qb_earnings_data.csv\"\n",
    "df.to_csv(csv_path, index=False)"
   ]
  },
  {
   "cell_type": "code",
   "execution_count": null,
   "metadata": {},
   "outputs": [],
   "source": []
  },
  {
   "cell_type": "code",
   "execution_count": 10,
   "metadata": {},
   "outputs": [],
   "source": [
    "# Save as Pickle; pickle.dump to store data\n",
    "pickle_path = 'Resources/acclaimed_albums_genres.pkl'\n",
    "with open(pickle_path, 'wb') as file:\n",
    "    pickle.dump(df, file)"
   ]
  },
  {
   "cell_type": "code",
   "execution_count": null,
   "metadata": {},
   "outputs": [],
   "source": [
    "# Reload Dataframe from pkl file, with rb 'read binary'\n",
    "# with open(pickle_path', 'rb') as file:\n",
    "#     df = pickle.load(file)"
   ]
  }
 ],
 "metadata": {
  "kernelspec": {
   "display_name": "dev",
   "language": "python",
   "name": "python3"
  },
  "language_info": {
   "codemirror_mode": {
    "name": "ipython",
    "version": 3
   },
   "file_extension": ".py",
   "mimetype": "text/x-python",
   "name": "python",
   "nbconvert_exporter": "python",
   "pygments_lexer": "ipython3",
   "version": "3.11.9"
  }
 },
 "nbformat": 4,
 "nbformat_minor": 2
}
