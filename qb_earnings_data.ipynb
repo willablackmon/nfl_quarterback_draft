{
 "cells": [
  {
   "cell_type": "code",
   "execution_count": 1,
   "metadata": {},
   "outputs": [
    {
     "name": "stdout",
     "output_type": "stream",
     "text": [
      "Requirement already satisfied: html5lib in c:\\users\\black\\anaconda3\\envs\\dev\\lib\\site-packages (1.1)\n",
      "Requirement already satisfied: six>=1.9 in c:\\users\\black\\anaconda3\\envs\\dev\\lib\\site-packages (from html5lib) (1.16.0)\n",
      "Requirement already satisfied: webencodings in c:\\users\\black\\anaconda3\\envs\\dev\\lib\\site-packages (from html5lib) (0.5.1)\n",
      "Note: you may need to restart the kernel to use updated packages.\n"
     ]
    }
   ],
   "source": [
    "# pip install html5lib"
   ]
  },
  {
   "cell_type": "code",
   "execution_count": 2,
   "metadata": {},
   "outputs": [],
   "source": [
    "import requests\n",
    "import pandas as pd\n",
    "from bs4 import BeautifulSoup\n",
    "import pickle"
   ]
  },
  {
   "cell_type": "code",
   "execution_count": 6,
   "metadata": {},
   "outputs": [
    {
     "data": {
      "text/html": [
       "<div>\n",
       "<style scoped>\n",
       "    .dataframe tbody tr th:only-of-type {\n",
       "        vertical-align: middle;\n",
       "    }\n",
       "\n",
       "    .dataframe tbody tr th {\n",
       "        vertical-align: top;\n",
       "    }\n",
       "\n",
       "    .dataframe thead th {\n",
       "        text-align: right;\n",
       "    }\n",
       "</style>\n",
       "<table border=\"1\" class=\"dataframe\">\n",
       "  <thead>\n",
       "    <tr style=\"text-align: right;\">\n",
       "      <th></th>\n",
       "      <th>Player</th>\n",
       "      <th>Years Active</th>\n",
       "      <th>Career Earnings</th>\n",
       "      <th>Cap-Inflated Earnings</th>\n",
       "      <th>Earnings By Team</th>\n",
       "    </tr>\n",
       "  </thead>\n",
       "  <tbody>\n",
       "    <tr>\n",
       "      <th>0</th>\n",
       "      <td>Aaron Rodgers</td>\n",
       "      <td>2005‑</td>\n",
       "      <td>$343,531,094</td>\n",
       "      <td>$546,133,077</td>\n",
       "      <td>Packers: $306,642,206 Jets: $36,888,888</td>\n",
       "    </tr>\n",
       "    <tr>\n",
       "      <th>1</th>\n",
       "      <td>Matt Stafford</td>\n",
       "      <td>2009‑</td>\n",
       "      <td>$328,000,000</td>\n",
       "      <td>$507,909,318</td>\n",
       "      <td>Lions: $219,000,000 Rams: $109,000,000</td>\n",
       "    </tr>\n",
       "    <tr>\n",
       "      <th>2</th>\n",
       "      <td>Tom Brady</td>\n",
       "      <td>2000‑2022</td>\n",
       "      <td>$317,619,794</td>\n",
       "      <td>$600,482,947</td>\n",
       "      <td>Patriots: $230,324,206 Buccaneers: $87,295,588</td>\n",
       "    </tr>\n",
       "    <tr>\n",
       "      <th>3</th>\n",
       "      <td>Matt Ryan</td>\n",
       "      <td>2008‑2022</td>\n",
       "      <td>$306,205,882</td>\n",
       "      <td>$501,677,687</td>\n",
       "      <td>Falcons: $269,500,000 Colts: $36,705,882</td>\n",
       "    </tr>\n",
       "    <tr>\n",
       "      <th>4</th>\n",
       "      <td>Russell Wilson</td>\n",
       "      <td>2012‑</td>\n",
       "      <td>$305,340,123</td>\n",
       "      <td>$408,432,196</td>\n",
       "      <td>Seahawks: $181,340,123 Broncos: $124,000,000</td>\n",
       "    </tr>\n",
       "  </tbody>\n",
       "</table>\n",
       "</div>"
      ],
      "text/plain": [
       "           Player Years Active Career Earnings Cap-Inflated Earnings   \n",
       "0   Aaron Rodgers        2005‑    $343,531,094          $546,133,077  \\\n",
       "1   Matt Stafford        2009‑    $328,000,000          $507,909,318   \n",
       "2       Tom Brady    2000‑2022    $317,619,794          $600,482,947   \n",
       "3       Matt Ryan    2008‑2022    $306,205,882          $501,677,687   \n",
       "4  Russell Wilson        2012‑    $305,340,123          $408,432,196   \n",
       "\n",
       "                                 Earnings By Team  \n",
       "0         Packers: $306,642,206 Jets: $36,888,888  \n",
       "1          Lions: $219,000,000 Rams: $109,000,000  \n",
       "2  Patriots: $230,324,206 Buccaneers: $87,295,588  \n",
       "3        Falcons: $269,500,000 Colts: $36,705,882  \n",
       "4    Seahawks: $181,340,123 Broncos: $124,000,000  "
      ]
     },
     "metadata": {},
     "output_type": "display_data"
    },
    {
     "name": "stdout",
     "output_type": "stream",
     "text": [
      "<class 'pandas.core.frame.DataFrame'>\n",
      "RangeIndex: 391 entries, 0 to 390\n",
      "Data columns (total 5 columns):\n",
      " #   Column                 Non-Null Count  Dtype \n",
      "---  ------                 --------------  ----- \n",
      " 0   Player                 391 non-null    object\n",
      " 1   Years Active           391 non-null    object\n",
      " 2   Career Earnings        391 non-null    object\n",
      " 3   Cap-Inflated Earnings  391 non-null    object\n",
      " 4   Earnings By Team       391 non-null    object\n",
      "dtypes: object(5)\n",
      "memory usage: 15.4+ KB\n"
     ]
    },
    {
     "data": {
      "text/plain": [
       "None"
      ]
     },
     "metadata": {},
     "output_type": "display_data"
    }
   ],
   "source": [
    "# URL of the QB earnings data:\n",
    "url = \"https://overthecap.com/career-earnings/quarterback\"\n",
    "\n",
    "# Send a GET request to the URL\n",
    "response = requests.get(url)\n",
    "\n",
    "# Check if the request was successful\n",
    "if response.status_code == 200:\n",
    "    # Parse the HTML content\n",
    "    soup = BeautifulSoup(response.content, 'html5lib')\n",
    "    # Find the table\n",
    "    table = soup.find('table')\n",
    "    # Read table into a pandas DataFrame\n",
    "    df = pd.read_html(str(table))[0]\n",
    "\n",
    "else:\n",
    "    print(\"Failed to retrieve the page\")\n",
    "\n",
    "# Display the DataFrame\n",
    "display(df.head())\n",
    "display(df.info())"
   ]
  },
  {
   "cell_type": "code",
   "execution_count": 9,
   "metadata": {},
   "outputs": [],
   "source": [
    "#Export csv\n",
    "csv_path = \"Resources/qb_earnings_data.csv\"\n",
    "df.to_csv(csv_path, index=False)"
   ]
  },
  {
   "cell_type": "code",
   "execution_count": null,
   "metadata": {},
   "outputs": [],
   "source": [
    "# Import CSV\n",
    "# df = pd.read_csv(csv_path)"
   ]
  },
  {
   "cell_type": "code",
   "execution_count": 10,
   "metadata": {},
   "outputs": [],
   "source": [
    "# Save as Pickle; pickle.dump to store data\n",
    "pickle_path = 'Resources/acclaimed_albums_genres.pkl'\n",
    "with open(pickle_path, 'wb') as file:\n",
    "    pickle.dump(df, file)"
   ]
  },
  {
   "cell_type": "code",
   "execution_count": null,
   "metadata": {},
   "outputs": [],
   "source": [
    "# Reload Dataframe from pkl file, with rb 'read binary'\n",
    "# with open(pickle_path', 'rb') as file:\n",
    "#     df = pickle.load(file)"
   ]
  }
 ],
 "metadata": {
  "kernelspec": {
   "display_name": "dev",
   "language": "python",
   "name": "python3"
  },
  "language_info": {
   "codemirror_mode": {
    "name": "ipython",
    "version": 3
   },
   "file_extension": ".py",
   "mimetype": "text/x-python",
   "name": "python",
   "nbconvert_exporter": "python",
   "pygments_lexer": "ipython3",
   "version": "3.11.9"
  }
 },
 "nbformat": 4,
 "nbformat_minor": 2
}
