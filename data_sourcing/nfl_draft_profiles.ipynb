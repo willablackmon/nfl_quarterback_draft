{
 "cells": [
  {
   "cell_type": "code",
   "execution_count": 1,
   "metadata": {},
   "outputs": [],
   "source": [
    "import pandas as pd"
   ]
  },
  {
   "cell_type": "markdown",
   "metadata": {},
   "source": [
    "from [jacklich10/nfl_draft_data:](https://github.com/jacklich10/nfl-draft-data)\n",
    "\n",
    "If you attempt to read in the .csv files in R with the commonly used readr::read_csv function, please use the parameter guess_max = 13000 to avoid parsing errors (this has to do with how readr guesses column types using only the first 1000 rows). Alternatively, use the read.csv function which will handle this without intervention."
   ]
  },
  {
   "cell_type": "markdown",
   "metadata": {},
   "source": [
    "from https://github.com/jacklich10/nfl-draft-data: \n",
    "\n",
    "If you are joining the datasets together, the value player_id is uniquely identified across all data. \n",
    "Be wary of pos_abbr, as the abbreviations sometimes (though rarely) differ across datasets. I have had no issues with school, school_name, and school_abbr, but player_id will always join the data correctly.\n",
    "\n",
    "If you are joining in ESPN college QBR statistics from college_qbr.csv, join by guid and player_name"
   ]
  },
  {
   "cell_type": "markdown",
   "metadata": {},
   "source": [
    "\n",
    "## nfl_draft_profiles.csv\n",
    "\n",
    "NFL draft player profile data from ESPN dating back to 1967 (4000 profiles)\n"
   ]
  },
  {
   "cell_type": "code",
   "execution_count": 2,
   "metadata": {},
   "outputs": [
    {
     "data": {
      "text/plain": [
       "'draft_profiles:'"
      ]
     },
     "metadata": {},
     "output_type": "display_data"
    },
    {
     "data": {
      "text/html": [
       "<div>\n",
       "<style scoped>\n",
       "    .dataframe tbody tr th:only-of-type {\n",
       "        vertical-align: middle;\n",
       "    }\n",
       "\n",
       "    .dataframe tbody tr th {\n",
       "        vertical-align: top;\n",
       "    }\n",
       "\n",
       "    .dataframe thead th {\n",
       "        text-align: right;\n",
       "    }\n",
       "</style>\n",
       "<table border=\"1\" class=\"dataframe\">\n",
       "  <thead>\n",
       "    <tr style=\"text-align: right;\">\n",
       "      <th></th>\n",
       "      <th>player_id</th>\n",
       "      <th>guid</th>\n",
       "      <th>alt_player_id</th>\n",
       "      <th>player_name</th>\n",
       "      <th>position</th>\n",
       "      <th>pos_abbr</th>\n",
       "      <th>weight</th>\n",
       "      <th>height</th>\n",
       "      <th>player_image</th>\n",
       "      <th>link</th>\n",
       "      <th>...</th>\n",
       "      <th>school</th>\n",
       "      <th>school_abbr</th>\n",
       "      <th>school_name</th>\n",
       "      <th>pos_rk</th>\n",
       "      <th>ovr_rk</th>\n",
       "      <th>grade</th>\n",
       "      <th>text1</th>\n",
       "      <th>text2</th>\n",
       "      <th>text3</th>\n",
       "      <th>text4</th>\n",
       "    </tr>\n",
       "  </thead>\n",
       "  <tbody>\n",
       "    <tr>\n",
       "      <th>0</th>\n",
       "      <td>23590</td>\n",
       "      <td>NaN</td>\n",
       "      <td>NaN</td>\n",
       "      <td>Bubba Smith</td>\n",
       "      <td>Defensive End</td>\n",
       "      <td>DE</td>\n",
       "      <td>0</td>\n",
       "      <td>0.0</td>\n",
       "      <td>NaN</td>\n",
       "      <td>http://insider.espn.com/nfl/draft/player/_/id/...</td>\n",
       "      <td>...</td>\n",
       "      <td>Michigan State</td>\n",
       "      <td>MSU</td>\n",
       "      <td>Spartans</td>\n",
       "      <td>NaN</td>\n",
       "      <td>NaN</td>\n",
       "      <td>NaN</td>\n",
       "      <td>NaN</td>\n",
       "      <td>NaN</td>\n",
       "      <td>NaN</td>\n",
       "      <td>NaN</td>\n",
       "    </tr>\n",
       "    <tr>\n",
       "      <th>1</th>\n",
       "      <td>23591</td>\n",
       "      <td>NaN</td>\n",
       "      <td>NaN</td>\n",
       "      <td>Clinton Jones</td>\n",
       "      <td>Running Back</td>\n",
       "      <td>RB</td>\n",
       "      <td>0</td>\n",
       "      <td>0.0</td>\n",
       "      <td>NaN</td>\n",
       "      <td>http://insider.espn.com/nfl/draft/player/_/id/...</td>\n",
       "      <td>...</td>\n",
       "      <td>Michigan State</td>\n",
       "      <td>MSU</td>\n",
       "      <td>Spartans</td>\n",
       "      <td>NaN</td>\n",
       "      <td>NaN</td>\n",
       "      <td>NaN</td>\n",
       "      <td>NaN</td>\n",
       "      <td>NaN</td>\n",
       "      <td>NaN</td>\n",
       "      <td>NaN</td>\n",
       "    </tr>\n",
       "    <tr>\n",
       "      <th>2</th>\n",
       "      <td>23592</td>\n",
       "      <td>NaN</td>\n",
       "      <td>NaN</td>\n",
       "      <td>Steve Spurrier</td>\n",
       "      <td>Quarterback</td>\n",
       "      <td>QB</td>\n",
       "      <td>0</td>\n",
       "      <td>0.0</td>\n",
       "      <td>NaN</td>\n",
       "      <td>http://insider.espn.com/nfl/draft/player/_/id/...</td>\n",
       "      <td>...</td>\n",
       "      <td>Florida</td>\n",
       "      <td>FLA</td>\n",
       "      <td>Gators</td>\n",
       "      <td>NaN</td>\n",
       "      <td>NaN</td>\n",
       "      <td>NaN</td>\n",
       "      <td>NaN</td>\n",
       "      <td>NaN</td>\n",
       "      <td>NaN</td>\n",
       "      <td>NaN</td>\n",
       "    </tr>\n",
       "    <tr>\n",
       "      <th>3</th>\n",
       "      <td>23593</td>\n",
       "      <td>NaN</td>\n",
       "      <td>NaN</td>\n",
       "      <td>Bob Griese</td>\n",
       "      <td>Quarterback</td>\n",
       "      <td>QB</td>\n",
       "      <td>0</td>\n",
       "      <td>0.0</td>\n",
       "      <td>NaN</td>\n",
       "      <td>http://insider.espn.com/nfl/draft/player/_/id/...</td>\n",
       "      <td>...</td>\n",
       "      <td>Purdue</td>\n",
       "      <td>PUR</td>\n",
       "      <td>Boilermakers</td>\n",
       "      <td>NaN</td>\n",
       "      <td>NaN</td>\n",
       "      <td>NaN</td>\n",
       "      <td>NaN</td>\n",
       "      <td>NaN</td>\n",
       "      <td>NaN</td>\n",
       "      <td>NaN</td>\n",
       "    </tr>\n",
       "    <tr>\n",
       "      <th>4</th>\n",
       "      <td>23594</td>\n",
       "      <td>NaN</td>\n",
       "      <td>NaN</td>\n",
       "      <td>George Webster</td>\n",
       "      <td>Linebacker</td>\n",
       "      <td>LB</td>\n",
       "      <td>0</td>\n",
       "      <td>0.0</td>\n",
       "      <td>NaN</td>\n",
       "      <td>http://insider.espn.com/nfl/draft/player/_/id/...</td>\n",
       "      <td>...</td>\n",
       "      <td>Michigan State</td>\n",
       "      <td>MSU</td>\n",
       "      <td>Spartans</td>\n",
       "      <td>NaN</td>\n",
       "      <td>NaN</td>\n",
       "      <td>NaN</td>\n",
       "      <td>NaN</td>\n",
       "      <td>NaN</td>\n",
       "      <td>NaN</td>\n",
       "      <td>NaN</td>\n",
       "    </tr>\n",
       "  </tbody>\n",
       "</table>\n",
       "<p>5 rows × 21 columns</p>\n",
       "</div>"
      ],
      "text/plain": [
       "   player_id guid  alt_player_id     player_name       position pos_abbr   \n",
       "0      23590  NaN            NaN     Bubba Smith  Defensive End       DE  \\\n",
       "1      23591  NaN            NaN   Clinton Jones   Running Back       RB   \n",
       "2      23592  NaN            NaN  Steve Spurrier    Quarterback       QB   \n",
       "3      23593  NaN            NaN      Bob Griese    Quarterback       QB   \n",
       "4      23594  NaN            NaN  George Webster     Linebacker       LB   \n",
       "\n",
       "   weight  height player_image   \n",
       "0       0     0.0          NaN  \\\n",
       "1       0     0.0          NaN   \n",
       "2       0     0.0          NaN   \n",
       "3       0     0.0          NaN   \n",
       "4       0     0.0          NaN   \n",
       "\n",
       "                                                link  ...          school   \n",
       "0  http://insider.espn.com/nfl/draft/player/_/id/...  ...  Michigan State  \\\n",
       "1  http://insider.espn.com/nfl/draft/player/_/id/...  ...  Michigan State   \n",
       "2  http://insider.espn.com/nfl/draft/player/_/id/...  ...         Florida   \n",
       "3  http://insider.espn.com/nfl/draft/player/_/id/...  ...          Purdue   \n",
       "4  http://insider.espn.com/nfl/draft/player/_/id/...  ...  Michigan State   \n",
       "\n",
       "  school_abbr   school_name pos_rk  ovr_rk  grade  text1 text2 text3 text4  \n",
       "0         MSU      Spartans    NaN     NaN    NaN    NaN   NaN   NaN   NaN  \n",
       "1         MSU      Spartans    NaN     NaN    NaN    NaN   NaN   NaN   NaN  \n",
       "2         FLA        Gators    NaN     NaN    NaN    NaN   NaN   NaN   NaN  \n",
       "3         PUR  Boilermakers    NaN     NaN    NaN    NaN   NaN   NaN   NaN  \n",
       "4         MSU      Spartans    NaN     NaN    NaN    NaN   NaN   NaN   NaN  \n",
       "\n",
       "[5 rows x 21 columns]"
      ]
     },
     "metadata": {},
     "output_type": "display_data"
    },
    {
     "name": "stdout",
     "output_type": "stream",
     "text": [
      "<class 'pandas.core.frame.DataFrame'>\n",
      "RangeIndex: 12905 entries, 0 to 12904\n",
      "Data columns (total 21 columns):\n",
      " #   Column         Non-Null Count  Dtype  \n",
      "---  ------         --------------  -----  \n",
      " 0   player_id      12905 non-null  int64  \n",
      " 1   guid           5949 non-null   object \n",
      " 2   alt_player_id  5882 non-null   float64\n",
      " 3   player_name    12905 non-null  object \n",
      " 4   position       12905 non-null  object \n",
      " 5   pos_abbr       12905 non-null  object \n",
      " 6   weight         12905 non-null  int64  \n",
      " 7   height         12905 non-null  float64\n",
      " 8   player_image   1506 non-null   object \n",
      " 9   link           12905 non-null  object \n",
      " 10  school_logo    12485 non-null  object \n",
      " 11  school         12905 non-null  object \n",
      " 12  school_abbr    12867 non-null  object \n",
      " 13  school_name    12895 non-null  object \n",
      " 14  pos_rk         5761 non-null   float64\n",
      " 15  ovr_rk         5100 non-null   float64\n",
      " 16  grade          5767 non-null   float64\n",
      " 17  text1          2992 non-null   object \n",
      " 18  text2          3848 non-null   object \n",
      " 19  text3          534 non-null    object \n",
      " 20  text4          2 non-null      object \n",
      "dtypes: float64(5), int64(2), object(14)\n",
      "memory usage: 2.1+ MB\n"
     ]
    },
    {
     "data": {
      "text/plain": [
       "None"
      ]
     },
     "metadata": {},
     "output_type": "display_data"
    }
   ],
   "source": [
    "# Import CSV for Profiles\n",
    "csv_profiles = r\"..\\Sources\\nfl_draft_profiles.csv\"\n",
    "prof_df = pd.read_csv(csv_profiles) \n",
    "display('draft_profiles:')\n",
    "display(prof_df.head())\n",
    "display(prof_df.info())"
   ]
  },
  {
   "cell_type": "markdown",
   "metadata": {},
   "source": [
    "nfl_draft_profiles.csv\n",
    "\n",
    "Information on NFL draft prospects including pre-draft text analysis in columns text* for * in 1, 2, 3, 4\n",
    "player_id (ESPN player id)\n",
    "\n",
    "has all positions: reduce to just QB using pos_abbr = QB (and double check with Position)\n",
    "this should have pos_rk ovr_rk and grade for more recent years. (around 5000 entries)\n",
    "should have player draft evaluations for more recent years (around 2900 entries) (text1, text2...text4)"
   ]
  },
  {
   "cell_type": "code",
   "execution_count": 3,
   "metadata": {},
   "outputs": [
    {
     "data": {
      "text/html": [
       "<div>\n",
       "<style scoped>\n",
       "    .dataframe tbody tr th:only-of-type {\n",
       "        vertical-align: middle;\n",
       "    }\n",
       "\n",
       "    .dataframe tbody tr th {\n",
       "        vertical-align: top;\n",
       "    }\n",
       "\n",
       "    .dataframe thead th {\n",
       "        text-align: right;\n",
       "    }\n",
       "</style>\n",
       "<table border=\"1\" class=\"dataframe\">\n",
       "  <thead>\n",
       "    <tr style=\"text-align: right;\">\n",
       "      <th></th>\n",
       "      <th>player_id</th>\n",
       "      <th>guid</th>\n",
       "      <th>alt_player_id</th>\n",
       "      <th>player_name</th>\n",
       "      <th>position</th>\n",
       "      <th>pos_abbr</th>\n",
       "      <th>weight</th>\n",
       "      <th>height</th>\n",
       "      <th>player_image</th>\n",
       "      <th>link</th>\n",
       "      <th>...</th>\n",
       "      <th>school</th>\n",
       "      <th>school_abbr</th>\n",
       "      <th>school_name</th>\n",
       "      <th>pos_rk</th>\n",
       "      <th>ovr_rk</th>\n",
       "      <th>grade</th>\n",
       "      <th>text1</th>\n",
       "      <th>text2</th>\n",
       "      <th>text3</th>\n",
       "      <th>text4</th>\n",
       "    </tr>\n",
       "  </thead>\n",
       "  <tbody>\n",
       "    <tr>\n",
       "      <th>2</th>\n",
       "      <td>23592</td>\n",
       "      <td>NaN</td>\n",
       "      <td>NaN</td>\n",
       "      <td>Steve Spurrier</td>\n",
       "      <td>Quarterback</td>\n",
       "      <td>QB</td>\n",
       "      <td>0</td>\n",
       "      <td>0.0</td>\n",
       "      <td>NaN</td>\n",
       "      <td>http://insider.espn.com/nfl/draft/player/_/id/...</td>\n",
       "      <td>...</td>\n",
       "      <td>Florida</td>\n",
       "      <td>FLA</td>\n",
       "      <td>Gators</td>\n",
       "      <td>NaN</td>\n",
       "      <td>NaN</td>\n",
       "      <td>NaN</td>\n",
       "      <td>NaN</td>\n",
       "      <td>NaN</td>\n",
       "      <td>NaN</td>\n",
       "      <td>NaN</td>\n",
       "    </tr>\n",
       "    <tr>\n",
       "      <th>3</th>\n",
       "      <td>23593</td>\n",
       "      <td>NaN</td>\n",
       "      <td>NaN</td>\n",
       "      <td>Bob Griese</td>\n",
       "      <td>Quarterback</td>\n",
       "      <td>QB</td>\n",
       "      <td>0</td>\n",
       "      <td>0.0</td>\n",
       "      <td>NaN</td>\n",
       "      <td>http://insider.espn.com/nfl/draft/player/_/id/...</td>\n",
       "      <td>...</td>\n",
       "      <td>Purdue</td>\n",
       "      <td>PUR</td>\n",
       "      <td>Boilermakers</td>\n",
       "      <td>NaN</td>\n",
       "      <td>NaN</td>\n",
       "      <td>NaN</td>\n",
       "      <td>NaN</td>\n",
       "      <td>NaN</td>\n",
       "      <td>NaN</td>\n",
       "      <td>NaN</td>\n",
       "    </tr>\n",
       "    <tr>\n",
       "      <th>24</th>\n",
       "      <td>23614</td>\n",
       "      <td>NaN</td>\n",
       "      <td>NaN</td>\n",
       "      <td>Don Horn</td>\n",
       "      <td>Quarterback</td>\n",
       "      <td>QB</td>\n",
       "      <td>0</td>\n",
       "      <td>0.0</td>\n",
       "      <td>NaN</td>\n",
       "      <td>http://insider.espn.com/nfl/draft/player/_/id/...</td>\n",
       "      <td>...</td>\n",
       "      <td>San Diego State</td>\n",
       "      <td>SDSU</td>\n",
       "      <td>Aztecs</td>\n",
       "      <td>NaN</td>\n",
       "      <td>NaN</td>\n",
       "      <td>NaN</td>\n",
       "      <td>NaN</td>\n",
       "      <td>NaN</td>\n",
       "      <td>NaN</td>\n",
       "      <td>NaN</td>\n",
       "    </tr>\n",
       "    <tr>\n",
       "      <th>26</th>\n",
       "      <td>23616</td>\n",
       "      <td>NaN</td>\n",
       "      <td>NaN</td>\n",
       "      <td>Bo Burris</td>\n",
       "      <td>Quarterback</td>\n",
       "      <td>QB</td>\n",
       "      <td>0</td>\n",
       "      <td>0.0</td>\n",
       "      <td>NaN</td>\n",
       "      <td>http://insider.espn.com/nfl/draft/player/_/id/...</td>\n",
       "      <td>...</td>\n",
       "      <td>Houston</td>\n",
       "      <td>HOU</td>\n",
       "      <td>Cougars</td>\n",
       "      <td>NaN</td>\n",
       "      <td>NaN</td>\n",
       "      <td>NaN</td>\n",
       "      <td>NaN</td>\n",
       "      <td>NaN</td>\n",
       "      <td>NaN</td>\n",
       "      <td>NaN</td>\n",
       "    </tr>\n",
       "    <tr>\n",
       "      <th>29</th>\n",
       "      <td>23619</td>\n",
       "      <td>NaN</td>\n",
       "      <td>NaN</td>\n",
       "      <td>Bob Davis</td>\n",
       "      <td>Quarterback</td>\n",
       "      <td>QB</td>\n",
       "      <td>0</td>\n",
       "      <td>0.0</td>\n",
       "      <td>NaN</td>\n",
       "      <td>http://insider.espn.com/nfl/draft/player/_/id/...</td>\n",
       "      <td>...</td>\n",
       "      <td>Virginia</td>\n",
       "      <td>UVA</td>\n",
       "      <td>Cavaliers</td>\n",
       "      <td>NaN</td>\n",
       "      <td>NaN</td>\n",
       "      <td>NaN</td>\n",
       "      <td>NaN</td>\n",
       "      <td>NaN</td>\n",
       "      <td>NaN</td>\n",
       "      <td>NaN</td>\n",
       "    </tr>\n",
       "  </tbody>\n",
       "</table>\n",
       "<p>5 rows × 21 columns</p>\n",
       "</div>"
      ],
      "text/plain": [
       "    player_id guid  alt_player_id     player_name     position pos_abbr   \n",
       "2       23592  NaN            NaN  Steve Spurrier  Quarterback       QB  \\\n",
       "3       23593  NaN            NaN      Bob Griese  Quarterback       QB   \n",
       "24      23614  NaN            NaN        Don Horn  Quarterback       QB   \n",
       "26      23616  NaN            NaN       Bo Burris  Quarterback       QB   \n",
       "29      23619  NaN            NaN       Bob Davis  Quarterback       QB   \n",
       "\n",
       "    weight  height player_image   \n",
       "2        0     0.0          NaN  \\\n",
       "3        0     0.0          NaN   \n",
       "24       0     0.0          NaN   \n",
       "26       0     0.0          NaN   \n",
       "29       0     0.0          NaN   \n",
       "\n",
       "                                                 link  ...           school   \n",
       "2   http://insider.espn.com/nfl/draft/player/_/id/...  ...          Florida  \\\n",
       "3   http://insider.espn.com/nfl/draft/player/_/id/...  ...           Purdue   \n",
       "24  http://insider.espn.com/nfl/draft/player/_/id/...  ...  San Diego State   \n",
       "26  http://insider.espn.com/nfl/draft/player/_/id/...  ...          Houston   \n",
       "29  http://insider.espn.com/nfl/draft/player/_/id/...  ...         Virginia   \n",
       "\n",
       "   school_abbr   school_name pos_rk  ovr_rk  grade  text1 text2 text3 text4  \n",
       "2          FLA        Gators    NaN     NaN    NaN    NaN   NaN   NaN   NaN  \n",
       "3          PUR  Boilermakers    NaN     NaN    NaN    NaN   NaN   NaN   NaN  \n",
       "24        SDSU        Aztecs    NaN     NaN    NaN    NaN   NaN   NaN   NaN  \n",
       "26         HOU       Cougars    NaN     NaN    NaN    NaN   NaN   NaN   NaN  \n",
       "29         UVA     Cavaliers    NaN     NaN    NaN    NaN   NaN   NaN   NaN  \n",
       "\n",
       "[5 rows x 21 columns]"
      ]
     },
     "metadata": {},
     "output_type": "display_data"
    },
    {
     "name": "stdout",
     "output_type": "stream",
     "text": [
      "<class 'pandas.core.frame.DataFrame'>\n",
      "Index: 601 entries, 2 to 12901\n",
      "Data columns (total 21 columns):\n",
      " #   Column         Non-Null Count  Dtype  \n",
      "---  ------         --------------  -----  \n",
      " 0   player_id      601 non-null    int64  \n",
      " 1   guid           290 non-null    object \n",
      " 2   alt_player_id  289 non-null    float64\n",
      " 3   player_name    601 non-null    object \n",
      " 4   position       601 non-null    object \n",
      " 5   pos_abbr       601 non-null    object \n",
      " 6   weight         601 non-null    int64  \n",
      " 7   height         601 non-null    float64\n",
      " 8   player_image   69 non-null     object \n",
      " 9   link           601 non-null    object \n",
      " 10  school_logo    589 non-null    object \n",
      " 11  school         601 non-null    object \n",
      " 12  school_abbr    600 non-null    object \n",
      " 13  school_name    601 non-null    object \n",
      " 14  pos_rk         268 non-null    float64\n",
      " 15  ovr_rk         242 non-null    float64\n",
      " 16  grade          268 non-null    float64\n",
      " 17  text1          148 non-null    object \n",
      " 18  text2          177 non-null    object \n",
      " 19  text3          37 non-null     object \n",
      " 20  text4          0 non-null      object \n",
      "dtypes: float64(5), int64(2), object(14)\n",
      "memory usage: 103.3+ KB\n"
     ]
    },
    {
     "data": {
      "text/plain": [
       "None"
      ]
     },
     "metadata": {},
     "output_type": "display_data"
    },
    {
     "data": {
      "text/plain": [
       "Index(['player_id', 'guid', 'alt_player_id', 'player_name', 'position',\n",
       "       'pos_abbr', 'weight', 'height', 'player_image', 'link', 'school_logo',\n",
       "       'school', 'school_abbr', 'school_name', 'pos_rk', 'ovr_rk', 'grade',\n",
       "       'text1', 'text2', 'text3', 'text4'],\n",
       "      dtype='object')"
      ]
     },
     "metadata": {},
     "output_type": "display_data"
    }
   ],
   "source": [
    "# Clean Draft Profiles data:\n",
    "# Include only Q postion == 'Quarterback' or pos_abbr = 'QB'\n",
    "\n",
    "# qb_profiles_df = profiles_df[\n",
    "#     (profiles_df['position'] == 'Quarterback') & \n",
    "#     (profiles_df['pos_abbr'] == 'QB')]\n",
    "\n",
    "qb_profiles_df = prof_df.query(\"position =='Quarterback' or pos_abbr == 'QB'\")\n",
    "\n",
    "display(qb_profiles_df.head())\n",
    "display(qb_profiles_df.info())\n",
    "display(qb_profiles_df.columns)"
   ]
  },
  {
   "cell_type": "code",
   "execution_count": 4,
   "metadata": {},
   "outputs": [],
   "source": [
    "# Drop unnecessary columns: \n",
    "drop = ['guid', 'alt_player_id','position','pos_abbr', 'player_image', 'link', 'school_logo',\n",
    "       'school_abbr', 'school_name', 'pos_rk', 'ovr_rk', 'text1', 'text2', 'text3', 'text4']\n",
    "\n",
    "profiles_df = qb_profiles_df.drop(columns=drop)"
   ]
  },
  {
   "cell_type": "code",
   "execution_count": 5,
   "metadata": {},
   "outputs": [
    {
     "data": {
      "text/plain": [
       "'0 values:'"
      ]
     },
     "metadata": {},
     "output_type": "display_data"
    },
    {
     "data": {
      "text/plain": [
       "height    331\n",
       "weight    292\n",
       "dtype: int64"
      ]
     },
     "metadata": {},
     "output_type": "display_data"
    },
    {
     "data": {
      "text/plain": [
       "'isna values:'"
      ]
     },
     "metadata": {},
     "output_type": "display_data"
    },
    {
     "data": {
      "text/plain": [
       "height    0\n",
       "weight    0\n",
       "dtype: int64"
      ]
     },
     "metadata": {},
     "output_type": "display_data"
    },
    {
     "data": {
      "text/plain": [
       "'0 values:'"
      ]
     },
     "metadata": {},
     "output_type": "display_data"
    },
    {
     "data": {
      "text/plain": [
       "height    0\n",
       "weight    0\n",
       "dtype: int64"
      ]
     },
     "metadata": {},
     "output_type": "display_data"
    },
    {
     "data": {
      "text/plain": [
       "'isna values:'"
      ]
     },
     "metadata": {},
     "output_type": "display_data"
    },
    {
     "data": {
      "text/plain": [
       "height    331\n",
       "weight    292\n",
       "dtype: int64"
      ]
     },
     "metadata": {},
     "output_type": "display_data"
    }
   ],
   "source": [
    "import numpy as np\n",
    "\n",
    "# Identify invalid values (0, 0.0, NaN)\n",
    "zero_count = profiles_df[['height', 'weight']].apply(lambda x: (x == 0) | (x == 0.0)).sum()\n",
    "isna_count = profiles_df[['height', 'weight']].apply(lambda x: pd.isna(x)).sum()\n",
    "display(\"0 values:\", zero_count)\n",
    "display(\"isna values:\", isna_count)\n",
    "\n",
    "# replace the 0 values with NaN for weight/height columns\n",
    "profiles_df.loc[:,['weight', 'height']] = qb_profiles_df.loc[:,['weight', 'height']].replace(0.0, np.nan)\n",
    "\n",
    "zero_count = profiles_df[['height', 'weight']].apply(lambda x: (x == 0) | (x == 0.0)).sum()\n",
    "isna_count = profiles_df[['height', 'weight']].apply(lambda x: pd.isna(x)).sum()\n",
    "display(\"0 values:\", zero_count)\n",
    "display(\"isna values:\", isna_count)\n"
   ]
  },
  {
   "cell_type": "code",
   "execution_count": 6,
   "metadata": {},
   "outputs": [
    {
     "name": "stdout",
     "output_type": "stream",
     "text": [
      "<class 'pandas.core.frame.DataFrame'>\n",
      "Index: 601 entries, 2 to 12901\n",
      "Data columns (total 6 columns):\n",
      " #   Column       Non-Null Count  Dtype  \n",
      "---  ------       --------------  -----  \n",
      " 0   player_id    601 non-null    int64  \n",
      " 1   player_name  601 non-null    object \n",
      " 2   weight       309 non-null    float64\n",
      " 3   height       270 non-null    float64\n",
      " 4   school       601 non-null    object \n",
      " 5   grade        268 non-null    float64\n",
      "dtypes: float64(3), int64(1), object(2)\n",
      "memory usage: 32.9+ KB\n"
     ]
    },
    {
     "data": {
      "text/plain": [
       "None"
      ]
     },
     "metadata": {},
     "output_type": "display_data"
    },
    {
     "data": {
      "text/html": [
       "<div>\n",
       "<style scoped>\n",
       "    .dataframe tbody tr th:only-of-type {\n",
       "        vertical-align: middle;\n",
       "    }\n",
       "\n",
       "    .dataframe tbody tr th {\n",
       "        vertical-align: top;\n",
       "    }\n",
       "\n",
       "    .dataframe thead th {\n",
       "        text-align: right;\n",
       "    }\n",
       "</style>\n",
       "<table border=\"1\" class=\"dataframe\">\n",
       "  <thead>\n",
       "    <tr style=\"text-align: right;\">\n",
       "      <th></th>\n",
       "      <th>player_id</th>\n",
       "      <th>player_name</th>\n",
       "      <th>weight</th>\n",
       "      <th>height</th>\n",
       "      <th>school</th>\n",
       "      <th>grade</th>\n",
       "    </tr>\n",
       "  </thead>\n",
       "  <tbody>\n",
       "    <tr>\n",
       "      <th>2</th>\n",
       "      <td>23592</td>\n",
       "      <td>Steve Spurrier</td>\n",
       "      <td>NaN</td>\n",
       "      <td>NaN</td>\n",
       "      <td>Florida</td>\n",
       "      <td>NaN</td>\n",
       "    </tr>\n",
       "    <tr>\n",
       "      <th>3</th>\n",
       "      <td>23593</td>\n",
       "      <td>Bob Griese</td>\n",
       "      <td>NaN</td>\n",
       "      <td>NaN</td>\n",
       "      <td>Purdue</td>\n",
       "      <td>NaN</td>\n",
       "    </tr>\n",
       "    <tr>\n",
       "      <th>24</th>\n",
       "      <td>23614</td>\n",
       "      <td>Don Horn</td>\n",
       "      <td>NaN</td>\n",
       "      <td>NaN</td>\n",
       "      <td>San Diego State</td>\n",
       "      <td>NaN</td>\n",
       "    </tr>\n",
       "    <tr>\n",
       "      <th>26</th>\n",
       "      <td>23616</td>\n",
       "      <td>Bo Burris</td>\n",
       "      <td>NaN</td>\n",
       "      <td>NaN</td>\n",
       "      <td>Houston</td>\n",
       "      <td>NaN</td>\n",
       "    </tr>\n",
       "    <tr>\n",
       "      <th>29</th>\n",
       "      <td>23619</td>\n",
       "      <td>Bob Davis</td>\n",
       "      <td>NaN</td>\n",
       "      <td>NaN</td>\n",
       "      <td>Virginia</td>\n",
       "      <td>NaN</td>\n",
       "    </tr>\n",
       "  </tbody>\n",
       "</table>\n",
       "</div>"
      ],
      "text/plain": [
       "    player_id     player_name  weight  height           school  grade\n",
       "2       23592  Steve Spurrier     NaN     NaN          Florida    NaN\n",
       "3       23593      Bob Griese     NaN     NaN           Purdue    NaN\n",
       "24      23614        Don Horn     NaN     NaN  San Diego State    NaN\n",
       "26      23616       Bo Burris     NaN     NaN          Houston    NaN\n",
       "29      23619       Bob Davis     NaN     NaN         Virginia    NaN"
      ]
     },
     "metadata": {},
     "output_type": "display_data"
    },
    {
     "data": {
      "text/plain": [
       "Index(['player_id', 'player_name', 'weight', 'height', 'school', 'grade'], dtype='object')"
      ]
     },
     "execution_count": 6,
     "metadata": {},
     "output_type": "execute_result"
    }
   ],
   "source": [
    "display(profiles_df.info())\n",
    "display(profiles_df.head())\n",
    "profiles_df.columns"
   ]
  },
  {
   "cell_type": "code",
   "execution_count": 7,
   "metadata": {},
   "outputs": [
    {
     "name": "stdout",
     "output_type": "stream",
     "text": [
      "rows 601\n",
      "rows 309\n"
     ]
    },
    {
     "data": {
      "text/html": [
       "<div>\n",
       "<style scoped>\n",
       "    .dataframe tbody tr th:only-of-type {\n",
       "        vertical-align: middle;\n",
       "    }\n",
       "\n",
       "    .dataframe tbody tr th {\n",
       "        vertical-align: top;\n",
       "    }\n",
       "\n",
       "    .dataframe thead th {\n",
       "        text-align: right;\n",
       "    }\n",
       "</style>\n",
       "<table border=\"1\" class=\"dataframe\">\n",
       "  <thead>\n",
       "    <tr style=\"text-align: right;\">\n",
       "      <th></th>\n",
       "      <th>player_id</th>\n",
       "      <th>player_name</th>\n",
       "      <th>weight</th>\n",
       "      <th>height</th>\n",
       "      <th>school</th>\n",
       "      <th>grade</th>\n",
       "    </tr>\n",
       "  </thead>\n",
       "  <tbody>\n",
       "    <tr>\n",
       "      <th>0</th>\n",
       "      <td>25</td>\n",
       "      <td>Michael Vick</td>\n",
       "      <td>215.0</td>\n",
       "      <td>NaN</td>\n",
       "      <td>Virginia Tech</td>\n",
       "      <td>NaN</td>\n",
       "    </tr>\n",
       "    <tr>\n",
       "      <th>1</th>\n",
       "      <td>2</td>\n",
       "      <td>Drew Brees</td>\n",
       "      <td>215.0</td>\n",
       "      <td>NaN</td>\n",
       "      <td>Purdue</td>\n",
       "      <td>NaN</td>\n",
       "    </tr>\n",
       "    <tr>\n",
       "      <th>2</th>\n",
       "      <td>3</td>\n",
       "      <td>Quincy Carter</td>\n",
       "      <td>220.0</td>\n",
       "      <td>NaN</td>\n",
       "      <td>Georgia</td>\n",
       "      <td>NaN</td>\n",
       "    </tr>\n",
       "    <tr>\n",
       "      <th>3</th>\n",
       "      <td>24</td>\n",
       "      <td>Marques Tuiasosopo</td>\n",
       "      <td>220.0</td>\n",
       "      <td>NaN</td>\n",
       "      <td>Washington</td>\n",
       "      <td>NaN</td>\n",
       "    </tr>\n",
       "    <tr>\n",
       "      <th>4</th>\n",
       "      <td>26</td>\n",
       "      <td>Chris Weinke</td>\n",
       "      <td>226.0</td>\n",
       "      <td>NaN</td>\n",
       "      <td>Florida State</td>\n",
       "      <td>NaN</td>\n",
       "    </tr>\n",
       "  </tbody>\n",
       "</table>\n",
       "</div>"
      ],
      "text/plain": [
       "   player_id         player_name  weight  height         school  grade\n",
       "0         25        Michael Vick   215.0     NaN  Virginia Tech    NaN\n",
       "1          2          Drew Brees   215.0     NaN         Purdue    NaN\n",
       "2          3       Quincy Carter   220.0     NaN        Georgia    NaN\n",
       "3         24  Marques Tuiasosopo   220.0     NaN     Washington    NaN\n",
       "4         26        Chris Weinke   226.0     NaN  Florida State    NaN"
      ]
     },
     "metadata": {},
     "output_type": "display_data"
    },
    {
     "name": "stdout",
     "output_type": "stream",
     "text": [
      "Index(['player_id', 'player_name', 'weight', 'height', 'school', 'grade'], dtype='object')\n"
     ]
    }
   ],
   "source": [
    "# Drop rows if they have NaN values in weight AND height AND grade columns:\n",
    "\n",
    "print(f'rows {len(profiles_df)}')\n",
    "\n",
    "# subset: Specifies the columns to check for NaN values.\n",
    "# how='all': Ensures rows are dropped only if all specified columns in subset are NaN\n",
    "\n",
    "profiles_final_df = profiles_df.dropna(subset=['weight', 'height', 'grade'], \n",
    "                                       how='all').reset_index(drop=True)\n",
    "\n",
    "print(f'rows {len(profiles_final_df)}')\n",
    "display(profiles_final_df.head())\n",
    "print(profiles_final_df.columns)"
   ]
  },
  {
   "cell_type": "code",
   "execution_count": 8,
   "metadata": {},
   "outputs": [
    {
     "name": "stdout",
     "output_type": "stream",
     "text": [
      "rows with NaN in both height and grade: 39\n"
     ]
    }
   ],
   "source": [
    "# Count the number of rows with NaN in both 'height' and 'grade'\n",
    "nan_count = profiles_final_df.loc[profiles_final_df[['height', 'grade']].isna().all(axis=1)].shape[0]\n",
    "\n",
    "# Display the count\n",
    "print(f'rows with NaN in both height and grade: {nan_count}')"
   ]
  },
  {
   "cell_type": "code",
   "execution_count": 9,
   "metadata": {},
   "outputs": [
    {
     "data": {
      "text/html": [
       "<div>\n",
       "<style scoped>\n",
       "    .dataframe tbody tr th:only-of-type {\n",
       "        vertical-align: middle;\n",
       "    }\n",
       "\n",
       "    .dataframe tbody tr th {\n",
       "        vertical-align: top;\n",
       "    }\n",
       "\n",
       "    .dataframe thead th {\n",
       "        text-align: right;\n",
       "    }\n",
       "</style>\n",
       "<table border=\"1\" class=\"dataframe\">\n",
       "  <thead>\n",
       "    <tr style=\"text-align: right;\">\n",
       "      <th></th>\n",
       "      <th>player_id</th>\n",
       "      <th>player_name</th>\n",
       "      <th>weight</th>\n",
       "      <th>height</th>\n",
       "      <th>school</th>\n",
       "      <th>grade</th>\n",
       "    </tr>\n",
       "  </thead>\n",
       "  <tbody>\n",
       "    <tr>\n",
       "      <th>0</th>\n",
       "      <td>7841</td>\n",
       "      <td>Eli Manning</td>\n",
       "      <td>221.0</td>\n",
       "      <td>76.750</td>\n",
       "      <td>Ole Miss</td>\n",
       "      <td>98.0</td>\n",
       "    </tr>\n",
       "    <tr>\n",
       "      <th>1</th>\n",
       "      <td>7842</td>\n",
       "      <td>Philip Rivers</td>\n",
       "      <td>224.0</td>\n",
       "      <td>76.750</td>\n",
       "      <td>NC State</td>\n",
       "      <td>95.0</td>\n",
       "    </tr>\n",
       "    <tr>\n",
       "      <th>2</th>\n",
       "      <td>7840</td>\n",
       "      <td>Ben Roethlisberger</td>\n",
       "      <td>241.0</td>\n",
       "      <td>76.875</td>\n",
       "      <td>Miami (OH)</td>\n",
       "      <td>99.0</td>\n",
       "    </tr>\n",
       "    <tr>\n",
       "      <th>3</th>\n",
       "      <td>7843</td>\n",
       "      <td>J.P. Losman</td>\n",
       "      <td>224.0</td>\n",
       "      <td>74.250</td>\n",
       "      <td>Tulane</td>\n",
       "      <td>89.0</td>\n",
       "    </tr>\n",
       "    <tr>\n",
       "      <th>4</th>\n",
       "      <td>7844</td>\n",
       "      <td>Matt Schaub</td>\n",
       "      <td>233.0</td>\n",
       "      <td>77.500</td>\n",
       "      <td>Virginia</td>\n",
       "      <td>80.0</td>\n",
       "    </tr>\n",
       "  </tbody>\n",
       "</table>\n",
       "</div>"
      ],
      "text/plain": [
       "   player_id         player_name  weight  height      school  grade\n",
       "0       7841         Eli Manning   221.0  76.750    Ole Miss   98.0\n",
       "1       7842       Philip Rivers   224.0  76.750    NC State   95.0\n",
       "2       7840  Ben Roethlisberger   241.0  76.875  Miami (OH)   99.0\n",
       "3       7843         J.P. Losman   224.0  74.250      Tulane   89.0\n",
       "4       7844         Matt Schaub   233.0  77.500    Virginia   80.0"
      ]
     },
     "metadata": {},
     "output_type": "display_data"
    },
    {
     "name": "stdout",
     "output_type": "stream",
     "text": [
      "Index(['player_id', 'player_name', 'weight', 'height', 'school', 'grade'], dtype='object')\n"
     ]
    }
   ],
   "source": [
    "# Drop rows where 'grade' is NaN\n",
    "profiles_final_df = profiles_df.dropna(subset=['grade']).reset_index(drop=True)\n",
    "display(profiles_final_df.head())\n",
    "print(profiles_final_df.columns)"
   ]
  },
  {
   "cell_type": "code",
   "execution_count": 10,
   "metadata": {},
   "outputs": [],
   "source": [
    "#Export csv for Profiles\n",
    "csv_path = r\"..\\Data_Artifacts\\nfl_draft_profiles_clean.csv\"\n",
    "profiles_df.to_csv(csv_path, index=False)"
   ]
  },
  {
   "cell_type": "code",
   "execution_count": null,
   "metadata": {},
   "outputs": [],
   "source": []
  },
  {
   "cell_type": "markdown",
   "metadata": {},
   "source": [
    "### ** ALL REMAINING CELLS: NOT USED **"
   ]
  },
  {
   "cell_type": "code",
   "execution_count": null,
   "metadata": {},
   "outputs": [],
   "source": []
  }
 ],
 "metadata": {
  "kernelspec": {
   "display_name": "dev",
   "language": "python",
   "name": "python3"
  },
  "language_info": {
   "codemirror_mode": {
    "name": "ipython",
    "version": 3
   },
   "file_extension": ".py",
   "mimetype": "text/x-python",
   "name": "python",
   "nbconvert_exporter": "python",
   "pygments_lexer": "ipython3",
   "version": "3.11.9"
  }
 },
 "nbformat": 4,
 "nbformat_minor": 2
}
